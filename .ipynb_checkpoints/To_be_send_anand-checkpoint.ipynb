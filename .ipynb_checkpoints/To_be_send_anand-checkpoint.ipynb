{
 "cells": [
  {
   "cell_type": "code",
   "execution_count": 1,
   "metadata": {},
   "outputs": [],
   "source": [
    "import pandas as pd\n",
    "import numpy as np"
   ]
  },
  {
   "cell_type": "code",
   "execution_count": 2,
   "metadata": {},
   "outputs": [],
   "source": [
    "data=pd.read_csv('./new_isis_tweets_anand.csv')"
   ]
  },
  {
   "cell_type": "code",
   "execution_count": 3,
   "metadata": {},
   "outputs": [],
   "source": [
    "user_id = data[ \"Screen Name\" ]"
   ]
  },
  {
   "cell_type": "code",
   "execution_count": 4,
   "metadata": {},
   "outputs": [],
   "source": [
    "unq_id = []\n",
    "count_id_wise = {}\n",
    "for idd in user_id :\n",
    "    if idd in unq_id :\n",
    "        count_id_wise[ idd ] += 1\n",
    "    else :\n",
    "        unq_id.append( idd )\n",
    "        count_id_wise[ idd ] = 1"
   ]
  },
  {
   "cell_type": "code",
   "execution_count": 5,
   "metadata": {},
   "outputs": [],
   "source": [
    "user = list( count_id_wise.keys() )\n",
    "count = list( count_id_wise.values() )"
   ]
  },
  {
   "cell_type": "code",
   "execution_count": 7,
   "metadata": {},
   "outputs": [],
   "source": [
    "ten_least_user = [ 1, 2, 3, 4, 5, 6, 7, 8, 9, 10 ]\n",
    "ten_least_count = [ 0 ] * 10\n",
    "for i in range( len( count ) ) :\n",
    "    if count[ i ] <= 10 :\n",
    "        ten_least_count[ count[ i ] - 1 ] += 1 \n",
    "    \n",
    "    "
   ]
  },
  {
   "cell_type": "code",
   "execution_count": null,
   "metadata": {},
   "outputs": [],
   "source": [
    "least_active = {}\n",
    "for i in range( 10 ) :\n",
    "    least_active ([ ten_least_user[ i ], ten_least_count[ i ] ] )"
   ]
  }
 ],
 "metadata": {
  "kernelspec": {
   "display_name": "Python 3",
   "language": "python",
   "name": "python3"
  },
  "language_info": {
   "codemirror_mode": {
    "name": "ipython",
    "version": 3
   },
   "file_extension": ".py",
   "mimetype": "text/x-python",
   "name": "python",
   "nbconvert_exporter": "python",
   "pygments_lexer": "ipython3",
   "version": "3.5.2"
  }
 },
 "nbformat": 4,
 "nbformat_minor": 2
}
