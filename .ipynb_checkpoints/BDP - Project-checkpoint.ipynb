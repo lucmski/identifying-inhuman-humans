{
 "cells": [
  {
   "cell_type": "code",
   "execution_count": 315,
   "metadata": {},
   "outputs": [],
   "source": [
    "import tweepy\n",
    "import csv\n",
    "import pprint\n",
    "import json"
   ]
  },
  {
   "cell_type": "code",
   "execution_count": 184,
   "metadata": {},
   "outputs": [],
   "source": [
    "# sagar's keys\n",
    "consumer_key = 'KlIvRIuDPRq6NQTdFPXpVh96v'\n",
    "consumer_secret = 'I92dpWQo89ULGCNmpGtwo01t5fVRvWyhPPJyXRTr3cN6KBwtCV'\n",
    "access_token = '866792900-KS0Y8s2nl4haGSyGax2E1PPAGoxejfCeSh18weU8'\n",
    "access_token_secret = 'SgtPu7DH7mCjbbXVETSSdGt07o8IBdkEJHI55sQKHdavT'\n",
    "\n",
    "# kshitij's keys\n",
    "# consumer_key = \"yyeI5zSWvvLVGSol7hu0tJ9gE\"\n",
    "# consumer_secret = \"3N4fjsuLTCV4tIXEMICf587lM6mC7i8kcF4Ju1FSnx6VdKKLaW\"\n",
    "# access_token = \"187109182-3vx120Tp28CEDfKZXB3JaZd5SV04DIZkhuIPEWfG\"\n",
    "# access_token_secret = \"OXA5aGEXXqibb1FKl31EyVdLVVBqZnDrzS22oLy6KzCuh\"\n",
    "\n",
    "auth = tweepy.auth.OAuthHandler(consumer_key, consumer_secret)\n",
    "auth.set_access_token(access_token, access_token_secret)\n",
    "api = tweepy.API(auth)"
   ]
  },
  {
   "cell_type": "code",
   "execution_count": 202,
   "metadata": {},
   "outputs": [
    {
     "name": "stdout",
     "output_type": "stream",
     "text": [
      "error\n"
     ]
    }
   ],
   "source": [
    "results_no_retweets = []\n",
    "try:\n",
    "    for status in tweepy.Cursor(api.search, q = \"#ISIS -filter:retweets\", tweet_mode = 'extended').items():\n",
    "        results_no_retweets.append(status._json)\n",
    "except :\n",
    "    print('error')"
   ]
  },
  {
   "cell_type": "code",
   "execution_count": 355,
   "metadata": {
    "scrolled": true
   },
   "outputs": [
    {
     "name": "stdout",
     "output_type": "stream",
     "text": [
      "error\n"
     ]
    }
   ],
   "source": [
    "# results = [status._json for status in tweepy.Cursor(api.search, q=\"#ISIS\", count = 2000, tweet_mode='extended').items()]\n",
    "# latest  ID - 1101353275285073920\n",
    "results = []\n",
    "try:\n",
    "    for status in tweepy.Cursor(api.search, q = \"#ISIS\", tweet_mode = 'extended').items():\n",
    "        results.append(status._json)\n",
    "except :\n",
    "    print('error')"
   ]
  },
  {
   "cell_type": "code",
   "execution_count": 344,
   "metadata": {},
   "outputs": [
    {
     "name": "stdout",
     "output_type": "stream",
     "text": [
      "{'id': 34898084,\n",
      " 'id_str': '34898084',\n",
      " 'indices': [251, 266],\n",
      " 'name': 'Wladimir',\n",
      " 'screen_name': 'vvanwilgenburg'}\n"
     ]
    }
   ],
   "source": [
    "pprint.pprint(results[1]['retweeted_status']['entities']['user_mentions'][0])"
   ]
  },
  {
   "cell_type": "code",
   "execution_count": 327,
   "metadata": {},
   "outputs": [],
   "source": [
    "results = []\n",
    "with open('./ISIS_Tweets.json', 'r') as f:\n",
    "    for item in f:\n",
    "        results.append(json.loads(item))"
   ]
  },
  {
   "cell_type": "code",
   "execution_count": 345,
   "metadata": {
    "scrolled": true
   },
   "outputs": [],
   "source": [
    "with open('new_isis_tweets.csv', 'a') as f:\n",
    "    header = 'DateTime,Location,Geo Tag,Tweet ID,Language,Hashtags,User Mentions,Retweet Count,Tweet Favorite Count,Device,User Id,User Name,Screen Name,Active Since,Tweet Count,Verification Status,Followers Count,Following Count,URL,Full Tweet'\n",
    "    f.write(header)\n",
    "    f.write('\\n')"
   ]
  },
  {
   "cell_type": "code",
   "execution_count": 354,
   "metadata": {},
   "outputs": [],
   "source": [
    "with open('new_isis_tweets.csv', 'a') as f:\n",
    "    for tweet in results:\n",
    "        if 'retweeted_status' in tweet.keys():\n",
    "            \n",
    "            tweet_attr = tweet['retweeted_status']\n",
    "            user_attr = tweet['retweeted_status']['user']\n",
    "            entities_attr = tweet['retweeted_status']['entities']\n",
    "            \n",
    "            date_time = tweet_attr['created_at']\n",
    "            location = tweet_attr['user']['location'].replace(',', ' ')\n",
    "            if len(location) == 0:\n",
    "                location = 'None'\n",
    "            geo = tweet_attr['geo']\n",
    "            if geo is None:\n",
    "                geo = 'None'\n",
    "            else:\n",
    "                geo = str(geo['coordinates'][0]) + str(geo['coordinates'][1])\n",
    "            tweet_id = tweet_attr['id_str']\n",
    "            lang = tweet_attr['lang']\n",
    "            if len(entities_attr['hashtags']) == 0:\n",
    "                hashtags = 'None'\n",
    "            else:\n",
    "                hashtags_list = []\n",
    "                for hashtag in entities_attr['hashtags']:\n",
    "                    hashtags_list.append(hashtag['text'])\n",
    "                hashtags = \" \".join(hashtags_list)\n",
    "            if len(entities_attr['user_mentions']) == 0:\n",
    "                user_mentions = 'None'\n",
    "            else:\n",
    "                user_mentions_list = []\n",
    "                for user in entities_attr['user_mentions']:\n",
    "                    user_mentions_list.append(user['screen_name'])\n",
    "                user_mentions = ' '.join(user_mentions_list)\n",
    "            retweet_count = str(tweet_attr['retweet_count'])\n",
    "            favorite_count = str(tweet_attr['favorite_count'])\n",
    "            device = tweet_attr['source']\n",
    "            if 'Android' in device:\n",
    "                device = 'Android'\n",
    "            elif 'Iphone' in device:\n",
    "                device = 'Iphone'\n",
    "            elif 'Web Client' in device:\n",
    "                device = 'Twitter Web Client'\n",
    "            elif 'Paper' in device:\n",
    "                device = 'Paper.ii'\n",
    "            elif 'Tweet Deck' in device:\n",
    "                device = 'Tweet Deck'\n",
    "            else:\n",
    "                device = 'Other'\n",
    "            user_id = user_attr['id_str']\n",
    "            user_name = user_attr['name'].replace(',', ' ')\n",
    "            screen_name = user_attr['screen_name'].replace(',', ' ')\n",
    "            joining_data = user_attr['created_at']\n",
    "            tweet_count = str(user_attr['statuses_count'])\n",
    "            verified = str(user_attr['verified'])\n",
    "            followers = str(user_attr['followers_count'])\n",
    "            following = str(user_attr['friends_count'])\n",
    "            url = user_attr['url']\n",
    "            if url is None:\n",
    "                url = 'None'\n",
    "            text = tweet_attr['full_text'].replace('\\n', ' ').replace(',', ' ').replace(';', ' ')\n",
    "            \n",
    "            row = date_time + ',' + location + ',' + geo + ',' + tweet_id + ',' + lang + ',' + hashtags \\\n",
    "            + ',' + user_mentions + ',' + retweet_count + ',' + favorite_count \\\n",
    "            + ',' + device + ',' + user_id + ',' + user_name + ',' + screen_name \\\n",
    "            + ',' + joining_data + ',' + tweet_count + ',' + verified + ',' + followers \\\n",
    "            + ',' + following + ',' + url + ',' + text + '\\n'\n",
    "            \n",
    "            f.write(row)\n",
    "        \n",
    "        else:\n",
    "            \n",
    "            tweet_attr = tweet\n",
    "            user_attr = tweet_attr['user']\n",
    "            entities_attr = tweet['entities']\n",
    "            \n",
    "            date_time = tweet_attr['created_at']\n",
    "            location = tweet_attr['user']['location'].replace(',', ' ')\n",
    "            if len(location) == 0:\n",
    "                location = 'None'\n",
    "            geo = tweet_attr['geo']\n",
    "            if geo is None:\n",
    "                geo = 'None'\n",
    "            else:\n",
    "                geo = str(geo['coordinates'][0]) + str(geo['coordinates'][1])\n",
    "            tweet_id = tweet_attr['id_str']\n",
    "            lang = tweet_attr['lang']\n",
    "            if len(entities_attr['hashtags']) == 0:\n",
    "                hashtags = 'None'\n",
    "            else:\n",
    "                hashtags_list = []\n",
    "                for hashtag in entities_attr['hashtags']:\n",
    "                    hashtags_list.append(hashtag['text'])\n",
    "                hashtags = \" \".join(hashtags_list)\n",
    "            if len(entities_attr['user_mentions']) == 0:\n",
    "                user_mentions = 'None'\n",
    "            else:\n",
    "                user_mentions_list = []\n",
    "                for user in entities_attr['user_mentions']:\n",
    "                    user_mentions_list.append(user['screen_name'])\n",
    "                user_mentions = \" \".join(user_mentions_list)\n",
    "            retweet_count = str(tweet_attr['retweet_count'])\n",
    "            favorite_count = str(tweet_attr['favorite_count'])\n",
    "            device = tweet_attr['source']\n",
    "            if 'Android' in device:\n",
    "                device = 'Android'\n",
    "            elif 'Iphone' in device:\n",
    "                device = 'Iphone'\n",
    "            elif 'Web Client' in device:\n",
    "                device = 'Twitter Web Client'\n",
    "            elif 'Paper' in device:\n",
    "                device = 'Paper.ii'\n",
    "            elif 'Tweet Deck' in device:\n",
    "                device = 'Tweet Deck'\n",
    "            else:\n",
    "                device = 'Other'\n",
    "            user_id = user_attr['id_str']\n",
    "            user_name = user_attr['name'].replace(',', ' ')\n",
    "            screen_name = user_attr['screen_name'].replace(',', ' ')\n",
    "            joining_data = user_attr['created_at']\n",
    "            tweet_count = str(user_attr['statuses_count'])\n",
    "            verified = str(user_attr['verified'])\n",
    "            followers = str(user_attr['followers_count'])\n",
    "            following = str(user_attr['friends_count'])\n",
    "            url = user_attr['url']\n",
    "            if url is None:\n",
    "                url = 'None'\n",
    "            text = tweet_attr['full_text'].replace('\\n', ' ').replace(',', ' ').replace(';', ' ')\n",
    "            \n",
    "            row = date_time + ',' + location + ',' + geo + ',' + tweet_id + ',' + lang + ',' + hashtags \\\n",
    "            + ',' + user_mentions + ',' + retweet_count + ',' + favorite_count \\\n",
    "            + ',' + device + ',' + user_id + ',' + user_name + ',' + screen_name \\\n",
    "            + ',' + joining_data + ',' + tweet_count + ',' + verified + ',' + followers \\\n",
    "            + ',' + following + ',' + url + ',' + text + '\\n'\n",
    "            \n",
    "            f.write(row)"
   ]
  },
  {
   "cell_type": "code",
   "execution_count": 356,
   "metadata": {},
   "outputs": [
    {
     "data": {
      "text/plain": [
       "2505"
      ]
     },
     "execution_count": 356,
     "metadata": {},
     "output_type": "execute_result"
    }
   ],
   "source": [
    "len(results)"
   ]
  },
  {
   "cell_type": "code",
   "execution_count": 357,
   "metadata": {},
   "outputs": [
    {
     "data": {
      "text/plain": [
       "{'contributors': None,\n",
       " 'coordinates': None,\n",
       " 'created_at': 'Fri Mar 01 18:20:12 +0000 2019',\n",
       " 'display_text_range': [0, 101],\n",
       " 'entities': {'hashtags': [{'indices': [0, 6], 'text': 'Islam'},\n",
       "   {'indices': [8, 21], 'text': 'ShamimaBegum'},\n",
       "   {'indices': [22, 27], 'text': 'ISIS'},\n",
       "   {'indices': [29, 32], 'text': 'IS'}],\n",
       "  'symbols': [],\n",
       "  'urls': [{'display_url': 'petertownsend.info/lawn-parable/',\n",
       "    'expanded_url': 'https://petertownsend.info/lawn-parable/',\n",
       "    'indices': [78, 101],\n",
       "    'url': 'https://t.co/WYDaQVJZxx'}],\n",
       "  'user_mentions': []},\n",
       " 'favorite_count': 0,\n",
       " 'favorited': False,\n",
       " 'full_text': '#Islam; #ShamimaBegum #ISIS  #IS Migration and Jihad. A 21st Century parable. https://t.co/WYDaQVJZxx',\n",
       " 'geo': None,\n",
       " 'id': 1101547703320875008,\n",
       " 'id_str': '1101547703320875008',\n",
       " 'in_reply_to_screen_name': None,\n",
       " 'in_reply_to_status_id': None,\n",
       " 'in_reply_to_status_id_str': None,\n",
       " 'in_reply_to_user_id': None,\n",
       " 'in_reply_to_user_id_str': None,\n",
       " 'is_quote_status': False,\n",
       " 'lang': 'en',\n",
       " 'metadata': {'iso_language_code': 'en', 'result_type': 'recent'},\n",
       " 'place': None,\n",
       " 'possibly_sensitive': False,\n",
       " 'retweet_count': 0,\n",
       " 'retweeted': False,\n",
       " 'source': '<a href=\"https://www.hootsuite.com\" rel=\"nofollow\">Hootsuite Inc.</a>',\n",
       " 'truncated': False,\n",
       " 'user': {'contributors_enabled': False,\n",
       "  'created_at': 'Sun Sep 16 05:20:05 +0000 2012',\n",
       "  'default_profile': True,\n",
       "  'default_profile_image': False,\n",
       "  'description': 'Author and independent researcher focused on Islam',\n",
       "  'entities': {'description': {'urls': []},\n",
       "   'url': {'urls': [{'display_url': 'petertownsend.info',\n",
       "      'expanded_url': 'http://www.petertownsend.info',\n",
       "      'indices': [0, 23],\n",
       "      'url': 'https://t.co/hXE2mwswaM'}]}},\n",
       "  'favourites_count': 386,\n",
       "  'follow_request_sent': False,\n",
       "  'followers_count': 104210,\n",
       "  'following': False,\n",
       "  'friends_count': 90810,\n",
       "  'geo_enabled': False,\n",
       "  'has_extended_profile': False,\n",
       "  'id': 826537184,\n",
       "  'id_str': '826537184',\n",
       "  'is_translation_enabled': False,\n",
       "  'is_translator': False,\n",
       "  'lang': 'en',\n",
       "  'listed_count': 808,\n",
       "  'location': '',\n",
       "  'name': 'Peter Townsend',\n",
       "  'notifications': False,\n",
       "  'profile_background_color': 'C0DEED',\n",
       "  'profile_background_image_url': 'http://abs.twimg.com/images/themes/theme1/bg.png',\n",
       "  'profile_background_image_url_https': 'https://abs.twimg.com/images/themes/theme1/bg.png',\n",
       "  'profile_background_tile': False,\n",
       "  'profile_banner_url': 'https://pbs.twimg.com/profile_banners/826537184/1527212190',\n",
       "  'profile_image_url': 'http://pbs.twimg.com/profile_images/999826074132299778/Rn0pFLkh_normal.jpg',\n",
       "  'profile_image_url_https': 'https://pbs.twimg.com/profile_images/999826074132299778/Rn0pFLkh_normal.jpg',\n",
       "  'profile_link_color': '1DA1F2',\n",
       "  'profile_sidebar_border_color': 'C0DEED',\n",
       "  'profile_sidebar_fill_color': 'DDEEF6',\n",
       "  'profile_text_color': '333333',\n",
       "  'profile_use_background_image': True,\n",
       "  'protected': False,\n",
       "  'screen_name': 'PeterTownsend7',\n",
       "  'statuses_count': 247782,\n",
       "  'time_zone': None,\n",
       "  'translator_type': 'none',\n",
       "  'url': 'https://t.co/hXE2mwswaM',\n",
       "  'utc_offset': None,\n",
       "  'verified': False}}"
      ]
     },
     "execution_count": 357,
     "metadata": {},
     "output_type": "execute_result"
    }
   ],
   "source": [
    "results[0]"
   ]
  },
  {
   "cell_type": "code",
   "execution_count": null,
   "metadata": {},
   "outputs": [],
   "source": []
  }
 ],
 "metadata": {
  "kernelspec": {
   "display_name": "Python 3",
   "language": "python",
   "name": "python3"
  },
  "language_info": {
   "codemirror_mode": {
    "name": "ipython",
    "version": 3
   },
   "file_extension": ".py",
   "mimetype": "text/x-python",
   "name": "python",
   "nbconvert_exporter": "python",
   "pygments_lexer": "ipython3",
   "version": "3.5.2"
  }
 },
 "nbformat": 4,
 "nbformat_minor": 2
}
