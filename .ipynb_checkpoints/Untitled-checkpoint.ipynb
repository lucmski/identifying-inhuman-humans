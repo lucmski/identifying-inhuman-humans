{
 "cells": [
  {
   "cell_type": "code",
   "execution_count": 70,
   "metadata": {},
   "outputs": [],
   "source": [
    "import pandas as pd\n",
    "import tweepy\n",
    "import json\n",
    "import pprint\n",
    "import time"
   ]
  },
  {
   "cell_type": "code",
   "execution_count": 71,
   "metadata": {
    "scrolled": true
   },
   "outputs": [
    {
     "data": {
      "text/plain": [
       "Index(['DateTime', 'Location', 'Geo Tag', 'Tweet ID', 'Language', 'Hashtags',\n",
       "       'User Mentions', 'Retweet Count', 'Tweet Favorite Count', 'Device',\n",
       "       'User Id', 'User Name', 'Screen Name', 'Active Since', 'Tweet Count',\n",
       "       'Verification Status', 'Followers Count', 'Following Count', 'URL',\n",
       "       'Full Tweet', ' Terror Group'],\n",
       "      dtype='object')"
      ]
     },
     "execution_count": 71,
     "metadata": {},
     "output_type": "execute_result"
    }
   ],
   "source": [
    "data = pd.read_csv('./new_isis_tweets.csv')\n",
    "data.keys()"
   ]
  },
  {
   "cell_type": "code",
   "execution_count": 33,
   "metadata": {},
   "outputs": [],
   "source": [
    "# sagar's keys\n",
    "# consumer_key = 'KlIvRIuDPRq6NQTdFPXpVh96v'\n",
    "# consumer_secret = 'I92dpWQo89ULGCNmpGtwo01t5fVRvWyhPPJyXRTr3cN6KBwtCV'\n",
    "# access_token = '866792900-KS0Y8s2nl4haGSyGax2E1PPAGoxejfCeSh18weU8'\n",
    "# access_token_secret = 'SgtPu7DH7mCjbbXVETSSdGt07o8IBdkEJHI55sQKHdavT'\n",
    "\n",
    "# kshitij's keys\n",
    "consumer_key = \"yyeI5zSWvvLVGSol7hu0tJ9gE\"\n",
    "consumer_secret = \"3N4fjsuLTCV4tIXEMICf587lM6mC7i8kcF4Ju1FSnx6VdKKLaW\"\n",
    "access_token = \"187109182-3vx120Tp28CEDfKZXB3JaZd5SV04DIZkhuIPEWfG\"\n",
    "access_token_secret = \"OXA5aGEXXqibb1FKl31EyVdLVVBqZnDrzS22oLy6KzCuh\"\n",
    "\n",
    "auth = tweepy.auth.OAuthHandler(consumer_key, consumer_secret)\n",
    "auth.set_access_token(access_token, access_token_secret)\n",
    "api = tweepy.API(auth)"
   ]
  },
  {
   "cell_type": "code",
   "execution_count": 74,
   "metadata": {},
   "outputs": [
    {
     "name": "stdout",
     "output_type": "stream",
     "text": [
      "<class 'str'>\n"
     ]
    }
   ],
   "source": [
    "names = data['Screen Name'].unique()\n",
    "# with open('./gender_isis.csv', 'a') as f:\n",
    "#     header = 'Screen Name' + 'User Name' + 'Text' + 'Description'\n",
    "#     f.write(header)\n",
    "for name in names:\n",
    "#     status = api.rate_limit_status()\n",
    "    if status['resources']['users']['/users/show/:id']['remaining'] <= 1:\n",
    "        time.sleep(600)\n",
    "    row = data[data['Screen Name'] == name]\n",
    "    user_name = str(row['User Name'])\n",
    "    user = api.get_user(name)\n",
    "#     x = user._json\n",
    "    print(user_name)\n",
    "    pprint.pprint(x['description'].replace(',', ' ').replace('\\n', ' ').replace('  ', ' '))"
   ]
  },
  {
   "cell_type": "code",
   "execution_count": 68,
   "metadata": {},
   "outputs": [
    {
     "data": {
      "text/plain": [
       "4223"
      ]
     },
     "execution_count": 68,
     "metadata": {},
     "output_type": "execute_result"
    }
   ],
   "source": [
    "names = data['Screen Name'].unique()\n",
    "len(names)"
   ]
  },
  {
   "cell_type": "code",
   "execution_count": null,
   "metadata": {},
   "outputs": [],
   "source": []
  }
 ],
 "metadata": {
  "kernelspec": {
   "display_name": "Python 3",
   "language": "python",
   "name": "python3"
  },
  "language_info": {
   "codemirror_mode": {
    "name": "ipython",
    "version": 3
   },
   "file_extension": ".py",
   "mimetype": "text/x-python",
   "name": "python",
   "nbconvert_exporter": "python",
   "pygments_lexer": "ipython3",
   "version": "3.5.2"
  }
 },
 "nbformat": 4,
 "nbformat_minor": 2
}
