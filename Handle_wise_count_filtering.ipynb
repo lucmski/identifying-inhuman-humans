{
 "cells": [
  {
   "cell_type": "code",
   "execution_count": 1,
   "metadata": {},
   "outputs": [],
   "source": [
    "import pandas as pd\n",
    "import numpy as np\n"
   ]
  },
  {
   "cell_type": "code",
   "execution_count": 7,
   "metadata": {},
   "outputs": [],
   "source": [
    "data=pd.read_csv('./new_isis_tweets_anand.csv')"
   ]
  },
  {
   "cell_type": "code",
   "execution_count": 8,
   "metadata": {},
   "outputs": [
    {
     "data": {
      "text/plain": [
       "Index(['DateTime', 'Location', 'Geo Tag', 'Tweet ID', 'Language', 'Hashtags',\n",
       "       'User Mentions', 'Retweet Count', 'Tweet Favorite Count', 'Device',\n",
       "       'User Id', 'User Name', 'Screen Name', 'Active Since', 'Tweet Count',\n",
       "       'Verification Status', 'Followers Count', 'Following Count', 'URL',\n",
       "       'Full Tweet', ' Terror Group'],\n",
       "      dtype='object')"
      ]
     },
     "execution_count": 8,
     "metadata": {},
     "output_type": "execute_result"
    }
   ],
   "source": [
    "data.columns"
   ]
  },
  {
   "cell_type": "code",
   "execution_count": 18,
   "metadata": {},
   "outputs": [],
   "source": [
    "user_id = data[ \"Screen Name\" ]"
   ]
  },
  {
   "cell_type": "code",
   "execution_count": 19,
   "metadata": {},
   "outputs": [],
   "source": [
    "unq_id = []\n",
    "count_id_wise = {}\n",
    "for idd in user_id :\n",
    "    if idd in unq_id :\n",
    "        count_id_wise[ idd ] += 1\n",
    "    else :\n",
    "        unq_id.append( idd )\n",
    "        count_id_wise[ idd ] = 1"
   ]
  },
  {
   "cell_type": "code",
   "execution_count": 23,
   "metadata": {},
   "outputs": [],
   "source": [
    "ids = list( count_id_wise.keys() )\n",
    "counts = list( count_id_wise.values() )\n",
    "id_wise_count = []\n",
    "for i in range( len( ids ) ) :\n",
    "    id_wise_count.append( [ ids[ i ], counts[ i ] ] )\n",
    "    \n",
    "dfid = pd.DataFrame( id_wise_count )\n",
    "dfid.columns = [ \"Screen Name\", \"Tweet Count\" ]"
   ]
  },
  {
   "cell_type": "code",
   "execution_count": 24,
   "metadata": {},
   "outputs": [],
   "source": [
    "dfid.to_csv( \"handle_wise_tweet_count.csv\", index = False)"
   ]
  },
  {
   "cell_type": "code",
   "execution_count": null,
   "metadata": {},
   "outputs": [],
   "source": []
  }
 ],
 "metadata": {
  "kernelspec": {
   "display_name": "Python 3",
   "language": "python",
   "name": "python3"
  },
  "language_info": {
   "codemirror_mode": {
    "name": "ipython",
    "version": 3
   },
   "file_extension": ".py",
   "mimetype": "text/x-python",
   "name": "python",
   "nbconvert_exporter": "python",
   "pygments_lexer": "ipython3",
   "version": "3.5.2"
  }
 },
 "nbformat": 4,
 "nbformat_minor": 2
}
